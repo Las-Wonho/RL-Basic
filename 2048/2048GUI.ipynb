{
 "cells": [
  {
   "cell_type": "code",
   "execution_count": 112,
   "metadata": {},
   "outputs": [],
   "source": [
    "import cv2\n",
    "import numpy as np\n",
    "import pyautogui as mp\n",
    "from mss import mss\n",
    "from PIL import ImageGrab\n",
    "from time import sleep"
   ]
  },
  {
   "cell_type": "code",
   "execution_count": null,
   "metadata": {},
   "outputs": [],
   "source": []
  },
  {
   "cell_type": "code",
   "execution_count": 165,
   "metadata": {},
   "outputs": [],
   "source": [
    "q =[1,2]\n",
    "def c(a):\n",
    "    mp.moveTo(500,500)\n",
    "    mp.mouseDown()\n",
    "    $sleep(0.)\n",
    "    \n",
    "    if(a==1):\n",
    "        mp.typewrite('a')\n",
    "    if(a==2):\n",
    "        mp.typewrite('s')\n",
    "    if(a==3):\n",
    "        mp.typewrite('d')\n",
    "    if(a==4):\n",
    "        mp.typewrite('w')\n",
    "        \n",
    "    #sleep(0.2)\n",
    "    img = ImageGrab.grab(bbox=(225,450,750,950))\n",
    "    img_np = np.array(img)\n",
    "    return img_np"
   ]
  },
  {
   "cell_type": "code",
   "execution_count": 167,
   "metadata": {},
   "outputs": [],
   "source": [
    "for i in range(3):\n",
    "    c(1)\n",
    "    c(2)\n",
    "    c(3)\n",
    "    c(4)"
   ]
  },
  {
   "cell_type": "code",
   "execution_count": 166,
   "metadata": {},
   "outputs": [],
   "source": [
    "img_np = c(4)\n",
    "for low in range(4):\n",
    "    arr1 = []\n",
    "    arr2 = []\n",
    "    arr3 = []\n",
    "    arr4 = []\n",
    "    for i in range(125):\n",
    "        arr1.append(img_np[i+125*low][:120])\n",
    "        arr2.append(img_np[i+125*low][120:240])\n",
    "        arr3.append(img_np[i+125*low][240:360])\n",
    "        arr4.append(img_np[i+125*low][360:480])    \n",
    "    frame = cv2.cvtColor(np.array(arr1), cv2.COLOR_BGR2RGB)\n",
    "    cv2.imshow(\"test\", frame)\n",
    "    cv2.waitKey(0)\n",
    "    cv2.destroyAllWindows()\n",
    "    frame = cv2.cvtColor(np.array(arr2), cv2.COLOR_BGR2RGB)\n",
    "    cv2.imshow(\"test\", frame)\n",
    "    cv2.waitKey(0)\n",
    "    cv2.destroyAllWindows()\n",
    "    frame = cv2.cvtColor(np.array(arr3), cv2.COLOR_BGR2RGB)\n",
    "    cv2.imshow(\"test\", frame)\n",
    "    cv2.waitKey(0)\n",
    "    cv2.destroyAllWindows()\n",
    "    frame = cv2.cvtColor(np.array(arr4), cv2.COLOR_BGR2RGB)\n",
    "    cv2.imshow(\"test\", frame)\n",
    "    cv2.waitKey(0)\n",
    "    cv2.destroyAllWindows()"
   ]
  },
  {
   "cell_type": "code",
   "execution_count": 117,
   "metadata": {},
   "outputs": [
    {
     "ename": "TypeError",
     "evalue": "'function' object is not subscriptable",
     "output_type": "error",
     "traceback": [
      "\u001b[1;31m---------------------------------------------------------------------------\u001b[0m",
      "\u001b[1;31mTypeError\u001b[0m                                 Traceback (most recent call last)",
      "\u001b[1;32m<ipython-input-117-f182fc5ca47c>\u001b[0m in \u001b[0;36m<module>\u001b[1;34m()\u001b[0m\n\u001b[1;32m----> 1\u001b[1;33m \u001b[0mc\u001b[0m\u001b[1;33m[\u001b[0m\u001b[0mi\u001b[0m\u001b[1;33m]\u001b[0m\u001b[1;33m[\u001b[0m\u001b[1;33m:\u001b[0m\u001b[1;36m120\u001b[0m\u001b[1;33m]\u001b[0m\u001b[1;33m\u001b[0m\u001b[0m\n\u001b[0m",
      "\u001b[1;31mTypeError\u001b[0m: 'function' object is not subscriptable"
     ]
    }
   ],
   "source": []
  },
  {
   "cell_type": "code",
   "execution_count": null,
   "metadata": {},
   "outputs": [],
   "source": []
  }
 ],
 "metadata": {
  "kernelspec": {
   "display_name": "Python 3",
   "language": "python",
   "name": "python3"
  },
  "language_info": {
   "codemirror_mode": {
    "name": "ipython",
    "version": 3
   },
   "file_extension": ".py",
   "mimetype": "text/x-python",
   "name": "python",
   "nbconvert_exporter": "python",
   "pygments_lexer": "ipython3",
   "version": "3.6.4"
  }
 },
 "nbformat": 4,
 "nbformat_minor": 2
}
