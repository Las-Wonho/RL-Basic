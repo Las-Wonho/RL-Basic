{
 "cells": [
  {
   "cell_type": "code",
   "execution_count": 1,
   "metadata": {},
   "outputs": [],
   "source": [
    "import cv2\n",
    "import numpy as np\n",
    "import pyautogui as mp\n",
    "from mss import mss\n",
    "from PIL import ImageGrab\n",
    "from random import *\n",
    "from time import sleep\n",
    "from IPython.display import clear_output"
   ]
  },
  {
   "cell_type": "code",
   "execution_count": 9,
   "metadata": {},
   "outputs": [
    {
     "name": "stdout",
     "output_type": "stream",
     "text": [
      "(1004, 614)\n",
      "(699, 828)\n",
      "(719, 856)\n",
      "(719, 856)\n",
      "(719, 856)\n",
      "(719, 856)\n",
      "(719, 856)\n",
      "(719, 856)\n",
      "(719, 856)\n",
      "(719, 856)\n",
      "(1453, 247)\n",
      "(1354, 186)\n"
     ]
    },
    {
     "ename": "KeyboardInterrupt",
     "evalue": "",
     "output_type": "error",
     "traceback": [
      "\u001b[1;31m---------------------------------------------------------------------------\u001b[0m",
      "\u001b[1;31mKeyboardInterrupt\u001b[0m                         Traceback (most recent call last)",
      "\u001b[1;32m<ipython-input-9-1b25a9f8059b>\u001b[0m in \u001b[0;36m<module>\u001b[1;34m()\u001b[0m\n\u001b[0;32m      1\u001b[0m \u001b[1;32mwhile\u001b[0m\u001b[1;33m(\u001b[0m\u001b[1;32mTrue\u001b[0m\u001b[1;33m)\u001b[0m\u001b[1;33m:\u001b[0m\u001b[1;33m\u001b[0m\u001b[0m\n\u001b[1;32m----> 2\u001b[1;33m     \u001b[0msleep\u001b[0m\u001b[1;33m(\u001b[0m\u001b[1;36m1\u001b[0m\u001b[1;33m)\u001b[0m\u001b[1;33m\u001b[0m\u001b[0m\n\u001b[0m\u001b[0;32m      3\u001b[0m     \u001b[0mprint\u001b[0m\u001b[1;33m(\u001b[0m\u001b[0mmp\u001b[0m\u001b[1;33m.\u001b[0m\u001b[0mposition\u001b[0m\u001b[1;33m(\u001b[0m\u001b[1;33m)\u001b[0m\u001b[1;33m)\u001b[0m\u001b[1;33m\u001b[0m\u001b[0m\n",
      "\u001b[1;31mKeyboardInterrupt\u001b[0m: "
     ]
    }
   ],
   "source": [
    "while(True):\n",
    "    sleep(1)\n",
    "    print(mp.position())"
   ]
  },
  {
   "cell_type": "code",
   "execution_count": 2,
   "metadata": {},
   "outputs": [],
   "source": [
    "\n",
    "def c(a):\n",
    "    mp.moveTo(500,500)\n",
    "    mp.mouseDown()\n",
    "    mp.mouseUp()\n",
    "    if(a!=0):\n",
    "        if(a==1):\n",
    "            mp.typewrite('a')\n",
    "        if(a==2):\n",
    "            mp.typewrite('s')\n",
    "        if(a==3):\n",
    "            mp.typewrite('d')\n",
    "        if(a==4):\n",
    "            mp.typewrite('w')\n",
    "        \n",
    "    sleep(0.2)\n",
    "    img = ImageGrab.grab(bbox=(225,370,750,870))\n",
    "    img_np = np.array(img)\n",
    "    #windowUp(img_np)\n",
    "    return img_np"
   ]
  },
  {
   "cell_type": "code",
   "execution_count": 3,
   "metadata": {},
   "outputs": [],
   "source": [
    "def windowUp(arr):\n",
    "    frame = cv2.cvtColor(np.array(arr), cv2.COLOR_BGR2RGB)\n",
    "    cv2.imshow(\"test\", frame)\n",
    "    cv2.waitKey(0)\n",
    "    cv2.destroyAllWindows()"
   ]
  },
  {
   "cell_type": "code",
   "execution_count": 4,
   "metadata": {},
   "outputs": [],
   "source": [
    "img_np = c(1)\n",
    "def processing(img_np):\n",
    "    arr=[]\n",
    "    for low in range(4):\n",
    "        arr1 = []\n",
    "        arr2 = []\n",
    "        arr3 = []\n",
    "        arr4 = []\n",
    "\n",
    "        for i in range(120):\n",
    "            arr1.append(img_np[i+120*low][:120])\n",
    "            arr2.append(img_np[i+120*low][120:240])\n",
    "            arr3.append(img_np[i+120*low][240:360])\n",
    "            arr4.append(img_np[i+120*low][360:480])\n",
    "\n",
    "        arr.append(arr1)\n",
    "        arr.append(arr2)\n",
    "        arr.append(arr3)\n",
    "        arr.append(arr4)\n",
    "        \"\"\"\n",
    "        windowUp(arr1)\n",
    "        windowUp(arr2)\n",
    "        windowUp(arr3)\n",
    "        windowUp(arr4) \n",
    "    \"\"\"\n",
    "    return arr"
   ]
  },
  {
   "cell_type": "code",
   "execution_count": 5,
   "metadata": {},
   "outputs": [
    {
     "ename": "NameError",
     "evalue": "name 'arr' is not defined",
     "output_type": "error",
     "traceback": [
      "\u001b[1;31m---------------------------------------------------------------------------\u001b[0m",
      "\u001b[1;31mNameError\u001b[0m                                 Traceback (most recent call last)",
      "\u001b[1;32m<ipython-input-5-17a2326ff38e>\u001b[0m in \u001b[0;36m<module>\u001b[1;34m()\u001b[0m\n\u001b[0;32m     26\u001b[0m     \u001b[1;32mif\u001b[0m \u001b[0marrayDiff\u001b[0m\u001b[1;33m(\u001b[0m\u001b[0marr\u001b[0m\u001b[1;33m[\u001b[0m\u001b[1;36m100\u001b[0m\u001b[1;33m]\u001b[0m\u001b[1;33m[\u001b[0m\u001b[1;36m100\u001b[0m\u001b[1;33m]\u001b[0m\u001b[1;33m,\u001b[0m\u001b[1;33m[\u001b[0m\u001b[1;36m237\u001b[0m\u001b[1;33m,\u001b[0m \u001b[1;36m200\u001b[0m\u001b[1;33m,\u001b[0m  \u001b[1;36m80\u001b[0m\u001b[1;33m]\u001b[0m\u001b[1;33m)\u001b[0m\u001b[1;33m:\u001b[0m\u001b[1;33m\u001b[0m\u001b[0m\n\u001b[0;32m     27\u001b[0m         \u001b[1;32mreturn\u001b[0m \u001b[1;36m512\u001b[0m\u001b[1;33m\u001b[0m\u001b[0m\n\u001b[1;32m---> 28\u001b[1;33m \u001b[0mdetectNum\u001b[0m\u001b[1;33m(\u001b[0m\u001b[0marr\u001b[0m\u001b[1;33m[\u001b[0m\u001b[1;36m5\u001b[0m\u001b[1;33m]\u001b[0m\u001b[1;33m)\u001b[0m\u001b[1;33m\u001b[0m\u001b[0m\n\u001b[0m",
      "\u001b[1;31mNameError\u001b[0m: name 'arr' is not defined"
     ]
    }
   ],
   "source": [
    "def arrayDiff(arr1,arr2):\n",
    "    for i in range(len(arr1)):\n",
    "        if(arr1[i]!=arr2[i]):\n",
    "            return False\n",
    "    return True\n",
    "\n",
    "def detectNum(arr):\n",
    "    if arrayDiff(arr[100][100],[205, 193, 180]):\n",
    "        return 0\n",
    "    if arrayDiff(arr[100][100],[238,228,218]):\n",
    "        return 2\n",
    "    if arrayDiff(arr[100][100],[237, 224, 200]):\n",
    "        return 4\n",
    "    if arrayDiff(arr[100][100],[242, 177, 121]):\n",
    "        return 8\n",
    "    if arrayDiff(arr[100][100],[245, 149,  99]):\n",
    "        return 16\n",
    "    if arrayDiff(arr[100][100],[246, 127,  96]) or arrayDiff(arr[100][100],[246, 124,  95]):\n",
    "        return 32\n",
    "    if arrayDiff(arr[100][100],[246,  94,  59]):\n",
    "        return 64\n",
    "    if arrayDiff(arr[100][100],[237, 207, 114]):\n",
    "        return 128\n",
    "    if arrayDiff(arr[100][100],[237, 204,  97]):\n",
    "        return 256\n",
    "    if arrayDiff(arr[100][100],[237, 200,  80]):\n",
    "        return 512\n",
    "detectNum(arr[5])"
   ]
  },
  {
   "cell_type": "markdown",
   "metadata": {},
   "source": [
    "120 * 120 * 3 Picture"
   ]
  },
  {
   "cell_type": "code",
   "execution_count": 10,
   "metadata": {},
   "outputs": [],
   "source": [
    "arr = processing(c(0))"
   ]
  },
  {
   "cell_type": "code",
   "execution_count": null,
   "metadata": {},
   "outputs": [],
   "source": []
  },
  {
   "cell_type": "code",
   "execution_count": 8,
   "metadata": {},
   "outputs": [
    {
     "name": "stdout",
     "output_type": "stream",
     "text": [
      "\n",
      "=========================\n",
      "Epoch :  19\n",
      "4,\t2,\t0,\t0,\t\n",
      "8,\t4,\t0,\t0,\t\n",
      "2,\t16,\t4,\t8,\t\n",
      "4,\t32,\t16,\t2,\t"
     ]
    }
   ],
   "source": [
    "for f in range(20):\n",
    "    \n",
    "    arr = processing(c(randint(0,4)))\n",
    "    count=0\n",
    "    clear_output()\n",
    "    print(\"\\n=========================\\nEpoch : \", f)\n",
    "    for i in arr:\n",
    "        if(count==4):\n",
    "            print()\n",
    "            count=0\n",
    "        print(detectNum(i),end=\",\\t\")\n",
    "        count+=1\n",
    "    sleep(0.5)\n",
    "    "
   ]
  },
  {
   "cell_type": "code",
   "execution_count": null,
   "metadata": {},
   "outputs": [],
   "source": []
  },
  {
   "cell_type": "code",
   "execution_count": null,
   "metadata": {},
   "outputs": [],
   "source": []
  },
  {
   "cell_type": "code",
   "execution_count": null,
   "metadata": {},
   "outputs": [],
   "source": []
  },
  {
   "cell_type": "code",
   "execution_count": null,
   "metadata": {},
   "outputs": [],
   "source": []
  }
 ],
 "metadata": {
  "kernelspec": {
   "display_name": "Python 3",
   "language": "python",
   "name": "python3"
  },
  "language_info": {
   "codemirror_mode": {
    "name": "ipython",
    "version": 3
   },
   "file_extension": ".py",
   "mimetype": "text/x-python",
   "name": "python",
   "nbconvert_exporter": "python",
   "pygments_lexer": "ipython3",
   "version": "3.6.5"
  }
 },
 "nbformat": 4,
 "nbformat_minor": 2
}
