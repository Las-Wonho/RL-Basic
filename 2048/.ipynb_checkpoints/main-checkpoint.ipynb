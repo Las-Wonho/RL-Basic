{
 "cells": [
  {
   "cell_type": "code",
   "execution_count": 22,
   "metadata": {},
   "outputs": [],
   "source": [
    "import numpy as np\n",
    "import tensorflow as tf"
   ]
  },
  {
   "cell_type": "code",
   "execution_count": 59,
   "metadata": {},
   "outputs": [],
   "source": [
    "_MapSize = 5\n",
    "\n",
    "def MapGenerator(size):\n",
    "    Map = []\n",
    "    for i in range(size):\n",
    "        arr=[]\n",
    "        for j in range(size):\n",
    "            arr.append(0)\n",
    "        Map.append(arr)\n",
    "    return Map\n",
    "def NextStep(Map):\n",
    "    x = np.random.randint(_MapSize)\n",
    "    y = np.random.randint(_MapSize)\n",
    "    if(Map[y][x]==0):\n",
    "        Map[y][x]=2\n",
    "    else:\n",
    "        NextStep(Map)\n",
    "def isEnd(Map):\n",
    "    for i in range(len(Map)):\n",
    "        for j in range(len(Map)):\n",
    "            if(Map[i][j]==0):\n",
    "                return False\n",
    "    return True"
   ]
  },
  {
   "cell_type": "code",
   "execution_count": 62,
   "metadata": {},
   "outputs": [],
   "source": [
    "maps = MapGenerator(5)"
   ]
  },
  {
   "cell_type": "code",
   "execution_count": 63,
   "metadata": {
    "scrolled": true
   },
   "outputs": [],
   "source": [
    "for i in range(19):\n",
    "    NextStep(maps)"
   ]
  },
  {
   "cell_type": "code",
   "execution_count": 64,
   "metadata": {},
   "outputs": [
    {
     "data": {
      "text/plain": [
       "False"
      ]
     },
     "execution_count": 64,
     "metadata": {},
     "output_type": "execute_result"
    }
   ],
   "source": [
    "isEnd(maps)"
   ]
  },
  {
   "cell_type": "code",
   "execution_count": null,
   "metadata": {},
   "outputs": [],
   "source": []
  }
 ],
 "metadata": {
  "kernelspec": {
   "display_name": "Python 3",
   "language": "python",
   "name": "python3"
  },
  "language_info": {
   "codemirror_mode": {
    "name": "ipython",
    "version": 3
   },
   "file_extension": ".py",
   "mimetype": "text/x-python",
   "name": "python",
   "nbconvert_exporter": "python",
   "pygments_lexer": "ipython3",
   "version": "3.6.4"
  }
 },
 "nbformat": 4,
 "nbformat_minor": 2
}
