{
 "cells": [
  {
   "cell_type": "code",
   "execution_count": 1,
   "metadata": {},
   "outputs": [],
   "source": [
    "import cv2\n",
    "import numpy as np\n",
    "import pyautogui as mp\n",
    "from mss import mss\n",
    "from PIL import ImageGrab\n",
    "from time import sleep"
   ]
  },
  {
   "cell_type": "code",
   "execution_count": 68,
   "metadata": {},
   "outputs": [],
   "source": [
    "q =[1,2]\n",
    "def c(a):\n",
    "    mp.moveTo(500,500)\n",
    "    mp.mouseDown()\n",
    "    #sleep(0.)\n",
    "    \n",
    "    if(a==1):\n",
    "        mp.typewrite('a')\n",
    "    if(a==2):\n",
    "        mp.typewrite('s')\n",
    "    if(a==3):\n",
    "        mp.typewrite('d')\n",
    "    if(a==4):\n",
    "        mp.typewrite('w')\n",
    "        \n",
    "    sleep(0.2)\n",
    "    img = ImageGrab.grab(bbox=(225,450,750,950))\n",
    "    img_np = np.array(img)\n",
    "    return img_np"
   ]
  },
  {
   "cell_type": "code",
   "execution_count": 62,
   "metadata": {},
   "outputs": [],
   "source": [
    "def windowUp(arr):\n",
    "    frame = cv2.cvtColor(np.array(arr), cv2.COLOR_BGR2RGB)\n",
    "    cv2.imshow(\"test\", frame)\n",
    "    cv2.waitKey(0)\n",
    "    cv2.destroyAllWindows()"
   ]
  },
  {
   "cell_type": "code",
   "execution_count": 70,
   "metadata": {},
   "outputs": [],
   "source": [
    "img_np = c(1)\n",
    "arr=[]\n",
    "for low in range(4):\n",
    "    arr1 = []\n",
    "    arr2 = []\n",
    "    arr3 = []\n",
    "    arr4 = []\n",
    "    \n",
    "    for i in range(120):\n",
    "        arr1.append(img_np[i+120*low][:120])\n",
    "        arr2.append(img_np[i+120*low][120:240])\n",
    "        arr3.append(img_np[i+120*low][240:360])\n",
    "        arr4.append(img_np[i+120*low][360:480])\n",
    "        \n",
    "    arr.append(arr1)\n",
    "    arr.append(arr2)\n",
    "    arr.append(arr3)\n",
    "    arr.append(arr4)\n",
    "    '''\n",
    "    windowUp(arr1)\n",
    "    windowUp(arr2)\n",
    "    windowUp(arr3)\n",
    "    windowUp(arr4) \n",
    "    '''"
   ]
  },
  {
   "cell_type": "code",
   "execution_count": 55,
   "metadata": {},
   "outputs": [
    {
     "data": {
      "text/plain": [
       "4"
      ]
     },
     "execution_count": 55,
     "metadata": {},
     "output_type": "execute_result"
    }
   ],
   "source": [
    "def arrayDiff(arr1,arr2):\n",
    "    for i in range(len(arr1)):\n",
    "        if(arr1[i]!=arr2[i]):\n",
    "            return False\n",
    "    return True\n",
    "\n",
    "def detectNum(arr):\n",
    "    if arrayDiff(arr[100][100],[205, 193, 180]):\n",
    "        return 0\n",
    "    if arrayDiff(arr[100][100],[238,228,218]):\n",
    "        return 2\n",
    "    if arrayDiff(arr[100][100],[237, 224, 200]):\n",
    "        return 4\n",
    "    if arrayDiff(arr[100][100],[242, 177, 121]):\n",
    "        return 8\n",
    "    if arrayDiff(arr[100][100],[245, 149,  99]):\n",
    "        return 16\n",
    "    if arrayDiff(arr[100][100],[246, 124,  95]):\n",
    "        return 32\n",
    "    if arrayDiff(arr[100][100],[246,  94,  59]):\n",
    "        return 64\n",
    "    if arrayDiff(arr[100][100],[237, 207, 114]):\n",
    "        return 128\n",
    "    if arrayDiff(arr[100][100],[237, 204,  97]):\n",
    "        return 256\n",
    "    if arrayDiff(arr[100][100],[237, 200,  80]):\n",
    "        return 512\n",
    "detectNum(arr[14])"
   ]
  },
  {
   "cell_type": "markdown",
   "metadata": {},
   "source": [
    "120 * 120 * 3 Picture"
   ]
  },
  {
   "cell_type": "code",
   "execution_count": 48,
   "metadata": {},
   "outputs": [
    {
     "data": {
      "text/plain": [
       "array([237, 200,  80], dtype=uint8)"
      ]
     },
     "execution_count": 48,
     "metadata": {},
     "output_type": "execute_result"
    }
   ],
   "source": [
    "arr[14][100][100]"
   ]
  },
  {
   "cell_type": "code",
   "execution_count": 60,
   "metadata": {},
   "outputs": [
    {
     "name": "stdout",
     "output_type": "stream",
     "text": [
      "8\n",
      "16\n",
      "2\n",
      "2\n",
      "4\n",
      "4\n",
      "8\n",
      "16\n",
      "0\n",
      "16\n",
      "4\n",
      "2\n",
      "0\n",
      "512\n",
      "0\n",
      "2\n"
     ]
    }
   ],
   "source": [
    "for i in arr:\n",
    "    print(detectNum(i))"
   ]
  },
  {
   "cell_type": "code",
   "execution_count": null,
   "metadata": {},
   "outputs": [],
   "source": []
  }
 ],
 "metadata": {
  "kernelspec": {
   "display_name": "Python 3",
   "language": "python",
   "name": "python3"
  },
  "language_info": {
   "codemirror_mode": {
    "name": "ipython",
    "version": 3
   },
   "file_extension": ".py",
   "mimetype": "text/x-python",
   "name": "python",
   "nbconvert_exporter": "python",
   "pygments_lexer": "ipython3",
   "version": "3.6.5"
  }
 },
 "nbformat": 4,
 "nbformat_minor": 2
}
