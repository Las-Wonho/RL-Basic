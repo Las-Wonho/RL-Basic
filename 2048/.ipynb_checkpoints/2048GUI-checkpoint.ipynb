{
 "cells": [
  {
   "cell_type": "code",
   "execution_count": 10,
   "metadata": {},
   "outputs": [],
   "source": [
    "import cv2\n",
    "import numpy as np\n",
    "import pyautogui as mp\n",
    "from mss import mss\n",
    "from PIL import ImageGrab\n",
    "from time import sleep"
   ]
  },
  {
   "cell_type": "code",
   "execution_count": null,
   "metadata": {},
   "outputs": [],
   "source": []
  },
  {
   "cell_type": "code",
   "execution_count": 107,
   "metadata": {},
   "outputs": [],
   "source": [
    "q =[1,2]\n",
    "def c(a):\n",
    "    mp.moveTo(500,500)\n",
    "    mp.mouseDown()\n",
    "    sleep(0.)\n",
    "    \n",
    "    if(a==1):\n",
    "        mp.typewrite('a')\n",
    "    if(a==2):\n",
    "        mp.typewrite('s')\n",
    "    if(a==3):\n",
    "        mp.typewrite('d')\n",
    "    if(a==4):\n",
    "        mp.typewrite('w')\n",
    "        \n",
    "    sleep(0.2)\n",
    "    img = ImageGrab.grab(bbox=(200,450,750,950))\n",
    "    img_np = np.array(img)\n",
    "    return img_np"
   ]
  },
  {
   "cell_type": "code",
   "execution_count": 108,
   "metadata": {},
   "outputs": [],
   "source": [
    "for i in range(3):\n",
    "    c(1)\n",
    "    c(2)\n",
    "    c(3)\n",
    "    c(4)"
   ]
  },
  {
   "cell_type": "code",
   "execution_count": 111,
   "metadata": {},
   "outputs": [],
   "source": [
    "img_np = c(1)[:125]\n",
    "frame = cv2.cvtColor(img_np, cv2.COLOR_BGR2RGB)\n",
    "cv2.imshow(\"test\", frame)\n",
    "cv2.waitKey(0)\n",
    "cv2.destroyAllWindows()"
   ]
  },
  {
   "cell_type": "code",
   "execution_count": null,
   "metadata": {},
   "outputs": [],
   "source": []
  }
 ],
 "metadata": {
  "kernelspec": {
   "display_name": "Python 3",
   "language": "python",
   "name": "python3"
  },
  "language_info": {
   "codemirror_mode": {
    "name": "ipython",
    "version": 3
   },
   "file_extension": ".py",
   "mimetype": "text/x-python",
   "name": "python",
   "nbconvert_exporter": "python",
   "pygments_lexer": "ipython3",
   "version": "3.6.4"
  }
 },
 "nbformat": 4,
 "nbformat_minor": 2
}
